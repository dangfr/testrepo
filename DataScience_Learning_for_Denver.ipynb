{
 "cells": [
  {
   "cell_type": "markdown",
   "id": "455461af",
   "metadata": {},
   "source": [
    "# My Jupyter Notebook on IBM Watson Studio"
   ]
  },
  {
   "cell_type": "markdown",
   "id": "586f215f",
   "metadata": {},
   "source": [
    "My name is **Denver Dang**; \n",
    "My corrent job is translation project manager."
   ]
  },
  {
   "cell_type": "markdown",
   "id": "3fc9cf51",
   "metadata": {},
   "source": [
    "*I managed finance balance of my team during past years, which makes me sensitive to data. I'm interested in data science because it can benifit finance management a lot.*"
   ]
  },
  {
   "cell_type": "markdown",
   "id": "37a20f4d",
   "metadata": {},
   "source": [
    "### The following code aims to input one's name and age, then print them. "
   ]
  },
  {
   "cell_type": "code",
   "execution_count": 1,
   "id": "0b782543",
   "metadata": {},
   "outputs": [
    {
     "name": "stdout",
     "output_type": "stream",
     "text": [
      "Please input your name:Denver\n",
      "Please input your age:15\n",
      "Your name is Denver and your age is 15.\n"
     ]
    }
   ],
   "source": [
    "name = input(\"Please input your name:\")\n",
    "age = input(\"Please input your age:\")\n",
    "print(\"Your name is\", name + \" and \" + \"your age is\", age + \".\")"
   ]
  },
  {
   "cell_type": "code",
   "execution_count": 3,
   "id": "406d10eb",
   "metadata": {},
   "outputs": [],
   "source": [
    "# The following 9 cells are for \"Cell 6 in the assignment\""
   ]
  },
  {
   "cell_type": "markdown",
   "id": "c039bbc7",
   "metadata": {},
   "source": [
    "horizontal rule\n",
    "***\n",
    "horizontal rule\n",
    "****\n",
    "horizontal rule"
   ]
  },
  {
   "cell_type": "markdown",
   "id": "33bb5c35",
   "metadata": {},
   "source": [
    "* bulleted list\n",
    "- bulleted list\n",
    "+ bulleted list"
   ]
  },
  {
   "cell_type": "markdown",
   "id": "d8be8d6e",
   "metadata": {},
   "source": [
    "1. 1st numbered list\n",
    "2. 2nd numbered list\n",
    "3. 3rd numbered list"
   ]
  },
  {
   "cell_type": "markdown",
   "id": "6fd0b495",
   "metadata": {},
   "source": [
    "This is a table:\n",
    "\n",
    "| No. | Name | Score |\n",
    "| :--: | :--: | :--: |\n",
    "| 001 | Denver | 80 |\n",
    "| 002 | Echo | 90 |"
   ]
  },
  {
   "cell_type": "markdown",
   "id": "35de4e94",
   "metadata": {},
   "source": [
    "hyperlink:\n",
    "\n",
    "<a href=\"https://github.com/dangfr/testrepo\">Denver's github excercise</a> "
   ]
  },
  {
   "cell_type": "markdown",
   "id": "4d2a59d1",
   "metadata": {},
   "source": [
    "image:\n",
    "\n",
    "![Python image](Python_image.webp)"
   ]
  },
  {
   "cell_type": "markdown",
   "id": "cc878dfe",
   "metadata": {},
   "source": [
    "code/syntax highlighting：\n",
    "\n",
    "`I'm highlighted text`\n",
    "\n",
    "<table><tr><td bgcolor=yellow>Background color：yellow</td></tr></table>\n",
    "\n",
    "<mark>original color<mark>\n",
    "\n",
    "<mark style=background-color:green>Highlighted color：green</mark> "
   ]
  },
  {
   "cell_type": "markdown",
   "id": "bdc36182",
   "metadata": {},
   "source": [
    "> blocked quotes level 1\n",
    ">> blocked qutes level 2"
   ]
  },
  {
   "cell_type": "markdown",
   "id": "d07f7d06",
   "metadata": {},
   "source": [
    "~~I am strikethrough~~"
   ]
  }
 ],
 "metadata": {
  "kernelspec": {
   "display_name": "Python 3 (ipykernel)",
   "language": "python",
   "name": "python3"
  },
  "language_info": {
   "codemirror_mode": {
    "name": "ipython",
    "version": 3
   },
   "file_extension": ".py",
   "mimetype": "text/x-python",
   "name": "python",
   "nbconvert_exporter": "python",
   "pygments_lexer": "ipython3",
   "version": "3.9.12"
  }
 },
 "nbformat": 4,
 "nbformat_minor": 5
}
